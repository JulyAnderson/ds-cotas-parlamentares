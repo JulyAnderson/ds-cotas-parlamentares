{
 "cells": [
  {
   "cell_type": "markdown",
   "id": "00cc4548",
   "metadata": {},
   "source": [
    "# Analisando as Cotas Parlamentares dos Anos de 2019, 2020, 2021, 2022"
   ]
  },
  {
   "cell_type": "code",
   "execution_count": 271,
   "id": "8d67c697",
   "metadata": {},
   "outputs": [],
   "source": [
    "import pandas as pd "
   ]
  },
  {
   "cell_type": "code",
   "execution_count": 272,
   "id": "462f8f65",
   "metadata": {},
   "outputs": [
    {
     "data": {
      "text/plain": [
       "True"
      ]
     },
     "execution_count": 272,
     "metadata": {},
     "output_type": "execute_result"
    }
   ],
   "source": [
    "#Abrindo os arquivos csv e transformando em dataframes\n",
    "df_22 = pd.read_csv('dados/despesa_ceaps_2022.csv', sep=';',encoding= 'latin-1',skiprows=1)\n",
    "df_21 = pd.read_csv('dados/despesa_ceaps_2021.csv', sep=';',encoding= 'latin-1',skiprows=1)\n",
    "df_20 = pd.read_csv('dados/despesa_ceaps_2020.csv', sep=';',encoding= 'latin-1',skiprows=1)\n",
    "df_19 = pd.read_csv('dados/despesa_ceaps_2019.csv', sep=';',encoding= 'latin-1',skiprows=1)\n",
    "\n",
    "#confirmando se os nomes das colunas são iguais\n",
    "eh_equal = all(df.columns.equals(outro_df.columns) for outro_df in [df_22, df_21, df_20, df_19])\n",
    "eh_equal"
   ]
  },
  {
   "cell_type": "code",
   "execution_count": 273,
   "id": "37b01a22",
   "metadata": {},
   "outputs": [
    {
     "data": {
      "text/html": [
       "<div>\n",
       "<style scoped>\n",
       "    .dataframe tbody tr th:only-of-type {\n",
       "        vertical-align: middle;\n",
       "    }\n",
       "\n",
       "    .dataframe tbody tr th {\n",
       "        vertical-align: top;\n",
       "    }\n",
       "\n",
       "    .dataframe thead th {\n",
       "        text-align: right;\n",
       "    }\n",
       "</style>\n",
       "<table border=\"1\" class=\"dataframe\">\n",
       "  <thead>\n",
       "    <tr style=\"text-align: right;\">\n",
       "      <th></th>\n",
       "      <th>ANO</th>\n",
       "      <th>MES</th>\n",
       "      <th>SENADOR</th>\n",
       "      <th>TIPO_DESPESA</th>\n",
       "      <th>CNPJ_CPF</th>\n",
       "      <th>FORNECEDOR</th>\n",
       "      <th>DOCUMENTO</th>\n",
       "      <th>DATA</th>\n",
       "      <th>DETALHAMENTO</th>\n",
       "      <th>VALOR_REEMBOLSADO</th>\n",
       "      <th>COD_DOCUMENTO</th>\n",
       "    </tr>\n",
       "  </thead>\n",
       "  <tbody>\n",
       "    <tr>\n",
       "      <th>0</th>\n",
       "      <td>2019</td>\n",
       "      <td>1</td>\n",
       "      <td>ACIR GURGACZ</td>\n",
       "      <td>Aluguel de imóveis para escritório político, c...</td>\n",
       "      <td>05.914.650/0001-66</td>\n",
       "      <td>ENERGISA</td>\n",
       "      <td>006582758</td>\n",
       "      <td>04/01/2019</td>\n",
       "      <td>Despesa com pagamento de energia elétrica do e...</td>\n",
       "      <td>66,02</td>\n",
       "      <td>2116543</td>\n",
       "    </tr>\n",
       "    <tr>\n",
       "      <th>1</th>\n",
       "      <td>2019</td>\n",
       "      <td>1</td>\n",
       "      <td>ACIR GURGACZ</td>\n",
       "      <td>Aluguel de imóveis para escritório político, c...</td>\n",
       "      <td>05.914.650/0001-66</td>\n",
       "      <td>ENERGISA</td>\n",
       "      <td>006582755</td>\n",
       "      <td>04/01/2019</td>\n",
       "      <td>Despesa com pagamento de energia elétrica do e...</td>\n",
       "      <td>139,98</td>\n",
       "      <td>2116546</td>\n",
       "    </tr>\n",
       "    <tr>\n",
       "      <th>2</th>\n",
       "      <td>2019</td>\n",
       "      <td>1</td>\n",
       "      <td>ACIR GURGACZ</td>\n",
       "      <td>Aluguel de imóveis para escritório político, c...</td>\n",
       "      <td>004.948.028-63</td>\n",
       "      <td>GILBERTO PISELO DO NASCIMENTO</td>\n",
       "      <td>00119</td>\n",
       "      <td>07/01/2019</td>\n",
       "      <td>Despesa com pagamento de aluguel de imóvel par...</td>\n",
       "      <td>6000</td>\n",
       "      <td>2113817</td>\n",
       "    </tr>\n",
       "    <tr>\n",
       "      <th>3</th>\n",
       "      <td>2019</td>\n",
       "      <td>1</td>\n",
       "      <td>ACIR GURGACZ</td>\n",
       "      <td>Aluguel de imóveis para escritório político, c...</td>\n",
       "      <td>05.423.963/0001-11</td>\n",
       "      <td>OI MÓVEL S.A.</td>\n",
       "      <td>86161151</td>\n",
       "      <td>25/12/2018</td>\n",
       "      <td>Despesa com pagamento de telefonia para o escr...</td>\n",
       "      <td>316,39</td>\n",
       "      <td>2116541</td>\n",
       "    </tr>\n",
       "    <tr>\n",
       "      <th>4</th>\n",
       "      <td>2019</td>\n",
       "      <td>2</td>\n",
       "      <td>ACIR GURGACZ</td>\n",
       "      <td>Aluguel de imóveis para escritório político, c...</td>\n",
       "      <td>05.914.650/0001-66</td>\n",
       "      <td>ENERGISA</td>\n",
       "      <td>007236036</td>\n",
       "      <td>04/02/2019</td>\n",
       "      <td>Despesa com pagamento de energia elétrica para...</td>\n",
       "      <td>99,45</td>\n",
       "      <td>2116550</td>\n",
       "    </tr>\n",
       "  </tbody>\n",
       "</table>\n",
       "</div>"
      ],
      "text/plain": [
       "    ANO  MES       SENADOR                                       TIPO_DESPESA  \\\n",
       "0  2019    1  ACIR GURGACZ  Aluguel de imóveis para escritório político, c...   \n",
       "1  2019    1  ACIR GURGACZ  Aluguel de imóveis para escritório político, c...   \n",
       "2  2019    1  ACIR GURGACZ  Aluguel de imóveis para escritório político, c...   \n",
       "3  2019    1  ACIR GURGACZ  Aluguel de imóveis para escritório político, c...   \n",
       "4  2019    2  ACIR GURGACZ  Aluguel de imóveis para escritório político, c...   \n",
       "\n",
       "             CNPJ_CPF                     FORNECEDOR  DOCUMENTO        DATA  \\\n",
       "0  05.914.650/0001-66                       ENERGISA  006582758  04/01/2019   \n",
       "1  05.914.650/0001-66                       ENERGISA  006582755  04/01/2019   \n",
       "2      004.948.028-63  GILBERTO PISELO DO NASCIMENTO      00119  07/01/2019   \n",
       "3  05.423.963/0001-11                  OI MÓVEL S.A.   86161151  25/12/2018   \n",
       "4  05.914.650/0001-66                       ENERGISA  007236036  04/02/2019   \n",
       "\n",
       "                                        DETALHAMENTO VALOR_REEMBOLSADO  \\\n",
       "0  Despesa com pagamento de energia elétrica do e...             66,02   \n",
       "1  Despesa com pagamento de energia elétrica do e...            139,98   \n",
       "2  Despesa com pagamento de aluguel de imóvel par...              6000   \n",
       "3  Despesa com pagamento de telefonia para o escr...            316,39   \n",
       "4  Despesa com pagamento de energia elétrica para...             99,45   \n",
       "\n",
       "   COD_DOCUMENTO  \n",
       "0        2116543  \n",
       "1        2116546  \n",
       "2        2113817  \n",
       "3        2116541  \n",
       "4        2116550  "
      ]
     },
     "execution_count": 273,
     "metadata": {},
     "output_type": "execute_result"
    }
   ],
   "source": [
    "#Realizando a concatenação de todos os dfs em um único arquivo. \n",
    "df = pd.concat([pd.read_csv(file, sep=';', encoding='latin-1',skiprows=1) for file in ['dados/despesa_ceaps_2019.csv',\n",
    "                                                            'dados/despesa_ceaps_2020.csv',\n",
    "                                                            'dados/despesa_ceaps_2021.csv',\n",
    "                                                            'dados/despesa_ceaps_2022.csv']],ignore_index=True)\n",
    "\n",
    "df.head()"
   ]
  },
  {
   "cell_type": "code",
   "execution_count": 274,
   "id": "bfdeb5a3",
   "metadata": {},
   "outputs": [
    {
     "name": "stdout",
     "output_type": "stream",
     "text": [
      "Dimensões do Data Frame:  (69333, 11)\n"
     ]
    }
   ],
   "source": [
    "#obtendo o tamanho do dataframe\n",
    "print('Dimensões do Data Frame: ', df.shape)"
   ]
  },
  {
   "cell_type": "code",
   "execution_count": 275,
   "id": "f40ff080",
   "metadata": {},
   "outputs": [
    {
     "name": "stdout",
     "output_type": "stream",
     "text": [
      "<class 'pandas.core.frame.DataFrame'>\n",
      "RangeIndex: 69333 entries, 0 to 69332\n",
      "Data columns (total 11 columns):\n",
      " #   Column             Non-Null Count  Dtype \n",
      "---  ------             --------------  ----- \n",
      " 0   ANO                69333 non-null  int64 \n",
      " 1   MES                69333 non-null  int64 \n",
      " 2   SENADOR            69333 non-null  object\n",
      " 3   TIPO_DESPESA       69333 non-null  object\n",
      " 4   CNPJ_CPF           69333 non-null  object\n",
      " 5   FORNECEDOR         69333 non-null  object\n",
      " 6   DOCUMENTO          66370 non-null  object\n",
      " 7   DATA               69333 non-null  object\n",
      " 8   DETALHAMENTO       38583 non-null  object\n",
      " 9   VALOR_REEMBOLSADO  69333 non-null  object\n",
      " 10  COD_DOCUMENTO      69333 non-null  int64 \n",
      "dtypes: int64(3), object(8)\n",
      "memory usage: 5.8+ MB\n"
     ]
    }
   ],
   "source": [
    "# obtendo informações sobre as colunas \n",
    "df.info()"
   ]
  },
  {
   "cell_type": "markdown",
   "id": "9c0fdeb3",
   "metadata": {},
   "source": [
    "### Conversão do Tipo de dado\n",
    "Considerando as informações das colunas, podemos converter os atributos VALOR_REEMBOLSADO e DATA para tipos de dados mais apropriados. "
   ]
  },
  {
   "cell_type": "code",
   "execution_count": 276,
   "id": "c69f4505",
   "metadata": {},
   "outputs": [
    {
     "data": {
      "text/plain": [
       "dtype('float64')"
      ]
     },
     "execution_count": 276,
     "metadata": {},
     "output_type": "execute_result"
    }
   ],
   "source": [
    "df['VALOR_REEMBOLSADO']= df.VALOR_REEMBOLSADO.str.replace(',', '.') #troca a vírgula por ponto em toda series\n",
    "df['VALOR_REEMBOLSADO'] = pd.to_numeric(df.VALOR_REEMBOLSADO, downcast='float') #converte a string para o tipo numérico float64\n",
    "df['VALOR_REEMBOLSADO'].dtype"
   ]
  },
  {
   "cell_type": "code",
   "execution_count": 277,
   "id": "c8b7c808",
   "metadata": {},
   "outputs": [
    {
     "data": {
      "text/plain": [
       "dtype('<M8[ns]')"
      ]
     },
     "execution_count": 277,
     "metadata": {},
     "output_type": "execute_result"
    }
   ],
   "source": [
    "df['DATA'] = pd.to_datetime(df['DATA'], format='%d/%m/%Y', errors='coerce')\n",
    "df['DATA'].dtype"
   ]
  },
  {
   "cell_type": "code",
   "execution_count": 278,
   "id": "ccd9661d",
   "metadata": {},
   "outputs": [
    {
     "data": {
      "text/plain": [
       "count     69333.000000\n",
       "mean       1413.131098\n",
       "std        3098.174309\n",
       "min           0.010000\n",
       "25%         158.140000\n",
       "50%         426.040000\n",
       "75%        1570.560000\n",
       "max      120000.000000\n",
       "Name: VALOR_REEMBOLSADO, dtype: float64"
      ]
     },
     "execution_count": 278,
     "metadata": {},
     "output_type": "execute_result"
    }
   ],
   "source": [
    "df['VALOR_REEMBOLSADO'].describe()"
   ]
  },
  {
   "cell_type": "code",
   "execution_count": 279,
   "id": "6efc7b4d",
   "metadata": {},
   "outputs": [
    {
     "data": {
      "text/html": [
       "<div>\n",
       "<style scoped>\n",
       "    .dataframe tbody tr th:only-of-type {\n",
       "        vertical-align: middle;\n",
       "    }\n",
       "\n",
       "    .dataframe tbody tr th {\n",
       "        vertical-align: top;\n",
       "    }\n",
       "\n",
       "    .dataframe thead th {\n",
       "        text-align: right;\n",
       "    }\n",
       "</style>\n",
       "<table border=\"1\" class=\"dataframe\">\n",
       "  <thead>\n",
       "    <tr style=\"text-align: right;\">\n",
       "      <th></th>\n",
       "      <th>ANO</th>\n",
       "      <th>MES</th>\n",
       "      <th>SENADOR</th>\n",
       "      <th>TIPO_DESPESA</th>\n",
       "      <th>CNPJ_CPF</th>\n",
       "      <th>FORNECEDOR</th>\n",
       "      <th>DOCUMENTO</th>\n",
       "      <th>DATA</th>\n",
       "      <th>DETALHAMENTO</th>\n",
       "      <th>VALOR_REEMBOLSADO</th>\n",
       "      <th>COD_DOCUMENTO</th>\n",
       "    </tr>\n",
       "  </thead>\n",
       "  <tbody>\n",
       "    <tr>\n",
       "      <th>10986</th>\n",
       "      <td>2019</td>\n",
       "      <td>1</td>\n",
       "      <td>LÚCIA VÂNIA</td>\n",
       "      <td>Aluguel de imóveis para escritório político, c...</td>\n",
       "      <td>08.573.731/0001-38</td>\n",
       "      <td>LDE Contabilidade e Administração de Condomíni...</td>\n",
       "      <td>0107007</td>\n",
       "      <td>NaT</td>\n",
       "      <td>Taxa condominial</td>\n",
       "      <td>271.26</td>\n",
       "      <td>2114251</td>\n",
       "    </tr>\n",
       "    <tr>\n",
       "      <th>31996</th>\n",
       "      <td>2020</td>\n",
       "      <td>5</td>\n",
       "      <td>PLÍNIO VALÉRIO</td>\n",
       "      <td>Divulgação da atividade parlamentar</td>\n",
       "      <td>27.209.437/0001-96</td>\n",
       "      <td>Excelsior Comunicação Digital Ltda</td>\n",
       "      <td>2020/9</td>\n",
       "      <td>NaT</td>\n",
       "      <td>NaN</td>\n",
       "      <td>1150.00</td>\n",
       "      <td>2144535</td>\n",
       "    </tr>\n",
       "    <tr>\n",
       "      <th>37872</th>\n",
       "      <td>2021</td>\n",
       "      <td>11</td>\n",
       "      <td>CARLOS VIANA</td>\n",
       "      <td>Passagens aéreas, aquáticas e terrestres nacio...</td>\n",
       "      <td>16.978.175/0001-08</td>\n",
       "      <td>ADRIA VIAGENS E TURISMO LTDA</td>\n",
       "      <td>YK1QHD</td>\n",
       "      <td>NaT</td>\n",
       "      <td>Companhia Aérea: AZUL, Localizador: YK1QHD. Pa...</td>\n",
       "      <td>339.90</td>\n",
       "      <td>2169237</td>\n",
       "    </tr>\n",
       "  </tbody>\n",
       "</table>\n",
       "</div>"
      ],
      "text/plain": [
       "        ANO  MES         SENADOR  \\\n",
       "10986  2019    1     LÚCIA VÂNIA   \n",
       "31996  2020    5  PLÍNIO VALÉRIO   \n",
       "37872  2021   11    CARLOS VIANA   \n",
       "\n",
       "                                            TIPO_DESPESA            CNPJ_CPF  \\\n",
       "10986  Aluguel de imóveis para escritório político, c...  08.573.731/0001-38   \n",
       "31996                Divulgação da atividade parlamentar  27.209.437/0001-96   \n",
       "37872  Passagens aéreas, aquáticas e terrestres nacio...  16.978.175/0001-08   \n",
       "\n",
       "                                              FORNECEDOR DOCUMENTO DATA  \\\n",
       "10986  LDE Contabilidade e Administração de Condomíni...   0107007  NaT   \n",
       "31996                 Excelsior Comunicação Digital Ltda    2020/9  NaT   \n",
       "37872                       ADRIA VIAGENS E TURISMO LTDA    YK1QHD  NaT   \n",
       "\n",
       "                                            DETALHAMENTO  VALOR_REEMBOLSADO  \\\n",
       "10986                                   Taxa condominial             271.26   \n",
       "31996                                                NaN            1150.00   \n",
       "37872  Companhia Aérea: AZUL, Localizador: YK1QHD. Pa...             339.90   \n",
       "\n",
       "       COD_DOCUMENTO  \n",
       "10986        2114251  \n",
       "31996        2144535  \n",
       "37872        2169237  "
      ]
     },
     "execution_count": 279,
     "metadata": {},
     "output_type": "execute_result"
    }
   ],
   "source": [
    "df_selecionado = df[pd.isna(df['DATA'])]\n",
    "df_selecionado"
   ]
  },
  {
   "cell_type": "code",
   "execution_count": 280,
   "id": "9baef92e",
   "metadata": {},
   "outputs": [
    {
     "data": {
      "text/plain": [
       "587.0533333333333"
      ]
     },
     "execution_count": 280,
     "metadata": {},
     "output_type": "execute_result"
    }
   ],
   "source": [
    "df_selecionado['VALOR_REEMBOLSADO'].mean()"
   ]
  },
  {
   "cell_type": "markdown",
   "id": "a67f6994",
   "metadata": {},
   "source": [
    "Considerando que temos apenas três registros com datas preenchidas de forma incorreta e que a média do VALORE_REEMBOLSADO destes registros é inferior à media da amostra e próximo à mediana, optei por eliminar essas insconsistências. "
   ]
  },
  {
   "cell_type": "code",
   "execution_count": 282,
   "id": "1abaa147",
   "metadata": {},
   "outputs": [],
   "source": [
    "df.dropna(subset=['DATA'], inplace=True)"
   ]
  },
  {
   "cell_type": "code",
   "execution_count": 283,
   "id": "dc4234af",
   "metadata": {},
   "outputs": [
    {
     "data": {
      "text/plain": [
       "(69330, 11)"
      ]
     },
     "execution_count": 283,
     "metadata": {},
     "output_type": "execute_result"
    }
   ],
   "source": [
    "df.shape"
   ]
  },
  {
   "cell_type": "code",
   "execution_count": null,
   "id": "33553024",
   "metadata": {},
   "outputs": [],
   "source": []
  }
 ],
 "metadata": {
  "kernelspec": {
   "display_name": "Python 3 (ipykernel)",
   "language": "python",
   "name": "python3"
  },
  "language_info": {
   "codemirror_mode": {
    "name": "ipython",
    "version": 3
   },
   "file_extension": ".py",
   "mimetype": "text/x-python",
   "name": "python",
   "nbconvert_exporter": "python",
   "pygments_lexer": "ipython3",
   "version": "3.9.17"
  }
 },
 "nbformat": 4,
 "nbformat_minor": 5
}
