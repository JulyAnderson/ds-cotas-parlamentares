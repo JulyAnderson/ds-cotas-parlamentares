{
 "cells": [
  {
   "cell_type": "markdown",
   "id": "00cc4548",
   "metadata": {},
   "source": [
    "# Analisando as Cotas Parlamentares dos Anos de 2019, 2020, 2021, 2022"
   ]
  },
  {
   "cell_type": "code",
   "execution_count": 1,
   "id": "8d67c697",
   "metadata": {},
   "outputs": [],
   "source": [
    "import pandas as pd "
   ]
  },
  {
   "cell_type": "code",
   "execution_count": 2,
   "id": "462f8f65",
   "metadata": {},
   "outputs": [
    {
     "data": {
      "text/plain": [
       "True"
      ]
     },
     "execution_count": 2,
     "metadata": {},
     "output_type": "execute_result"
    }
   ],
   "source": [
    "#Abrindo os arquivos csv e transformando em dataframes\n",
    "df_22 = pd.read_csv('dados/despesa_ceaps_2022.csv', sep=';',encoding= 'latin-1',skiprows=1)\n",
    "df_21 = pd.read_csv('dados/despesa_ceaps_2021.csv', sep=';',encoding= 'latin-1',skiprows=1)\n",
    "df_20 = pd.read_csv('dados/despesa_ceaps_2020.csv', sep=';',encoding= 'latin-1',skiprows=1)\n",
    "df_19 = pd.read_csv('dados/despesa_ceaps_2019.csv', sep=';',encoding= 'latin-1',skiprows=1)\n",
    "\n",
    "#confirmando se os nomes das colunas são iguais\n",
    "eh_equal = all(df_19.columns.equals(outro_df.columns) for outro_df in [df_22, df_21, df_20])\n",
    "eh_equal"
   ]
  },
  {
   "cell_type": "code",
   "execution_count": 3,
   "id": "37b01a22",
   "metadata": {},
   "outputs": [
    {
     "data": {
      "text/html": [
       "<div>\n",
       "<style scoped>\n",
       "    .dataframe tbody tr th:only-of-type {\n",
       "        vertical-align: middle;\n",
       "    }\n",
       "\n",
       "    .dataframe tbody tr th {\n",
       "        vertical-align: top;\n",
       "    }\n",
       "\n",
       "    .dataframe thead th {\n",
       "        text-align: right;\n",
       "    }\n",
       "</style>\n",
       "<table border=\"1\" class=\"dataframe\">\n",
       "  <thead>\n",
       "    <tr style=\"text-align: right;\">\n",
       "      <th></th>\n",
       "      <th>ANO</th>\n",
       "      <th>MES</th>\n",
       "      <th>SENADOR</th>\n",
       "      <th>TIPO_DESPESA</th>\n",
       "      <th>CNPJ_CPF</th>\n",
       "      <th>FORNECEDOR</th>\n",
       "      <th>DOCUMENTO</th>\n",
       "      <th>DATA</th>\n",
       "      <th>DETALHAMENTO</th>\n",
       "      <th>VALOR_REEMBOLSADO</th>\n",
       "      <th>COD_DOCUMENTO</th>\n",
       "    </tr>\n",
       "  </thead>\n",
       "  <tbody>\n",
       "    <tr>\n",
       "      <th>0</th>\n",
       "      <td>2019</td>\n",
       "      <td>1</td>\n",
       "      <td>ACIR GURGACZ</td>\n",
       "      <td>Aluguel de imóveis para escritório político, c...</td>\n",
       "      <td>05.914.650/0001-66</td>\n",
       "      <td>ENERGISA</td>\n",
       "      <td>006582758</td>\n",
       "      <td>04/01/2019</td>\n",
       "      <td>Despesa com pagamento de energia elétrica do e...</td>\n",
       "      <td>66,02</td>\n",
       "      <td>2116543</td>\n",
       "    </tr>\n",
       "    <tr>\n",
       "      <th>1</th>\n",
       "      <td>2019</td>\n",
       "      <td>1</td>\n",
       "      <td>ACIR GURGACZ</td>\n",
       "      <td>Aluguel de imóveis para escritório político, c...</td>\n",
       "      <td>05.914.650/0001-66</td>\n",
       "      <td>ENERGISA</td>\n",
       "      <td>006582755</td>\n",
       "      <td>04/01/2019</td>\n",
       "      <td>Despesa com pagamento de energia elétrica do e...</td>\n",
       "      <td>139,98</td>\n",
       "      <td>2116546</td>\n",
       "    </tr>\n",
       "    <tr>\n",
       "      <th>2</th>\n",
       "      <td>2019</td>\n",
       "      <td>1</td>\n",
       "      <td>ACIR GURGACZ</td>\n",
       "      <td>Aluguel de imóveis para escritório político, c...</td>\n",
       "      <td>004.948.028-63</td>\n",
       "      <td>GILBERTO PISELO DO NASCIMENTO</td>\n",
       "      <td>00119</td>\n",
       "      <td>07/01/2019</td>\n",
       "      <td>Despesa com pagamento de aluguel de imóvel par...</td>\n",
       "      <td>6000</td>\n",
       "      <td>2113817</td>\n",
       "    </tr>\n",
       "  </tbody>\n",
       "</table>\n",
       "</div>"
      ],
      "text/plain": [
       "    ANO  MES       SENADOR                                       TIPO_DESPESA  \\\n",
       "0  2019    1  ACIR GURGACZ  Aluguel de imóveis para escritório político, c...   \n",
       "1  2019    1  ACIR GURGACZ  Aluguel de imóveis para escritório político, c...   \n",
       "2  2019    1  ACIR GURGACZ  Aluguel de imóveis para escritório político, c...   \n",
       "\n",
       "             CNPJ_CPF                     FORNECEDOR  DOCUMENTO        DATA  \\\n",
       "0  05.914.650/0001-66                       ENERGISA  006582758  04/01/2019   \n",
       "1  05.914.650/0001-66                       ENERGISA  006582755  04/01/2019   \n",
       "2      004.948.028-63  GILBERTO PISELO DO NASCIMENTO      00119  07/01/2019   \n",
       "\n",
       "                                        DETALHAMENTO VALOR_REEMBOLSADO  \\\n",
       "0  Despesa com pagamento de energia elétrica do e...             66,02   \n",
       "1  Despesa com pagamento de energia elétrica do e...            139,98   \n",
       "2  Despesa com pagamento de aluguel de imóvel par...              6000   \n",
       "\n",
       "   COD_DOCUMENTO  \n",
       "0        2116543  \n",
       "1        2116546  \n",
       "2        2113817  "
      ]
     },
     "execution_count": 3,
     "metadata": {},
     "output_type": "execute_result"
    }
   ],
   "source": [
    "#Realizando a concatenação de todos os dfs em um único arquivo. \n",
    "df = pd.concat([pd.read_csv(file, sep=';', encoding='latin-1',skiprows=1) for file in ['dados/despesa_ceaps_2019.csv',\n",
    "                                                            'dados/despesa_ceaps_2020.csv',\n",
    "                                                            'dados/despesa_ceaps_2021.csv',\n",
    "                                                            'dados/despesa_ceaps_2022.csv']],ignore_index=True)\n",
    "\n",
    "df.head(3)"
   ]
  },
  {
   "cell_type": "code",
   "execution_count": 4,
   "id": "bfdeb5a3",
   "metadata": {},
   "outputs": [
    {
     "name": "stdout",
     "output_type": "stream",
     "text": [
      "Dimensões do Data Frame:  (69333, 11)\n"
     ]
    }
   ],
   "source": [
    "#obtendo o tamanho do dataframe\n",
    "print('Dimensões do Data Frame: ', df.shape)"
   ]
  },
  {
   "cell_type": "code",
   "execution_count": 5,
   "id": "f40ff080",
   "metadata": {},
   "outputs": [
    {
     "name": "stdout",
     "output_type": "stream",
     "text": [
      "<class 'pandas.core.frame.DataFrame'>\n",
      "RangeIndex: 69333 entries, 0 to 69332\n",
      "Data columns (total 11 columns):\n",
      " #   Column             Non-Null Count  Dtype \n",
      "---  ------             --------------  ----- \n",
      " 0   ANO                69333 non-null  int64 \n",
      " 1   MES                69333 non-null  int64 \n",
      " 2   SENADOR            69333 non-null  object\n",
      " 3   TIPO_DESPESA       69333 non-null  object\n",
      " 4   CNPJ_CPF           69333 non-null  object\n",
      " 5   FORNECEDOR         69333 non-null  object\n",
      " 6   DOCUMENTO          66370 non-null  object\n",
      " 7   DATA               69333 non-null  object\n",
      " 8   DETALHAMENTO       38583 non-null  object\n",
      " 9   VALOR_REEMBOLSADO  69333 non-null  object\n",
      " 10  COD_DOCUMENTO      69333 non-null  int64 \n",
      "dtypes: int64(3), object(8)\n",
      "memory usage: 5.8+ MB\n"
     ]
    }
   ],
   "source": [
    "# obtendo informações sobre as colunas \n",
    "df.info()"
   ]
  },
  {
   "cell_type": "markdown",
   "id": "9c0fdeb3",
   "metadata": {},
   "source": [
    "### Conversão do Tipo de dado\n",
    "Considerando as informações das colunas, podemos converter os atributos VALOR_REEMBOLSADO e DATA para tipos de dados mais apropriados. "
   ]
  },
  {
   "cell_type": "code",
   "execution_count": 6,
   "id": "c69f4505",
   "metadata": {},
   "outputs": [
    {
     "data": {
      "text/plain": [
       "dtype('float64')"
      ]
     },
     "execution_count": 6,
     "metadata": {},
     "output_type": "execute_result"
    }
   ],
   "source": [
    "df['VALOR_REEMBOLSADO']= df.VALOR_REEMBOLSADO.str.replace(',', '.') #troca a vírgula por ponto em toda series\n",
    "df['VALOR_REEMBOLSADO'] = pd.to_numeric(df.VALOR_REEMBOLSADO, downcast='float') #converte a string para o tipo numérico float64\n",
    "df['VALOR_REEMBOLSADO'].dtype"
   ]
  },
  {
   "cell_type": "code",
   "execution_count": 7,
   "id": "c8b7c808",
   "metadata": {},
   "outputs": [
    {
     "data": {
      "text/plain": [
       "dtype('<M8[ns]')"
      ]
     },
     "execution_count": 7,
     "metadata": {},
     "output_type": "execute_result"
    }
   ],
   "source": [
    "df['DATA'] = pd.to_datetime(df['DATA'], format='%d/%m/%Y', errors='coerce')\n",
    "df['DATA'].dtype"
   ]
  },
  {
   "cell_type": "code",
   "execution_count": 8,
   "id": "ccd9661d",
   "metadata": {},
   "outputs": [
    {
     "data": {
      "text/plain": [
       "count     69333.000000\n",
       "mean       1413.131098\n",
       "std        3098.174309\n",
       "min           0.010000\n",
       "25%         158.140000\n",
       "50%         426.040000\n",
       "75%        1570.560000\n",
       "max      120000.000000\n",
       "Name: VALOR_REEMBOLSADO, dtype: float64"
      ]
     },
     "execution_count": 8,
     "metadata": {},
     "output_type": "execute_result"
    }
   ],
   "source": [
    "df['VALOR_REEMBOLSADO'].describe()"
   ]
  },
  {
   "cell_type": "code",
   "execution_count": 9,
   "id": "6efc7b4d",
   "metadata": {},
   "outputs": [
    {
     "data": {
      "text/html": [
       "<div>\n",
       "<style scoped>\n",
       "    .dataframe tbody tr th:only-of-type {\n",
       "        vertical-align: middle;\n",
       "    }\n",
       "\n",
       "    .dataframe tbody tr th {\n",
       "        vertical-align: top;\n",
       "    }\n",
       "\n",
       "    .dataframe thead th {\n",
       "        text-align: right;\n",
       "    }\n",
       "</style>\n",
       "<table border=\"1\" class=\"dataframe\">\n",
       "  <thead>\n",
       "    <tr style=\"text-align: right;\">\n",
       "      <th></th>\n",
       "      <th>ANO</th>\n",
       "      <th>MES</th>\n",
       "      <th>SENADOR</th>\n",
       "      <th>TIPO_DESPESA</th>\n",
       "      <th>CNPJ_CPF</th>\n",
       "      <th>FORNECEDOR</th>\n",
       "      <th>DOCUMENTO</th>\n",
       "      <th>DATA</th>\n",
       "      <th>DETALHAMENTO</th>\n",
       "      <th>VALOR_REEMBOLSADO</th>\n",
       "      <th>COD_DOCUMENTO</th>\n",
       "    </tr>\n",
       "  </thead>\n",
       "  <tbody>\n",
       "    <tr>\n",
       "      <th>10986</th>\n",
       "      <td>2019</td>\n",
       "      <td>1</td>\n",
       "      <td>LÚCIA VÂNIA</td>\n",
       "      <td>Aluguel de imóveis para escritório político, c...</td>\n",
       "      <td>08.573.731/0001-38</td>\n",
       "      <td>LDE Contabilidade e Administração de Condomíni...</td>\n",
       "      <td>0107007</td>\n",
       "      <td>NaT</td>\n",
       "      <td>Taxa condominial</td>\n",
       "      <td>271.26</td>\n",
       "      <td>2114251</td>\n",
       "    </tr>\n",
       "    <tr>\n",
       "      <th>31996</th>\n",
       "      <td>2020</td>\n",
       "      <td>5</td>\n",
       "      <td>PLÍNIO VALÉRIO</td>\n",
       "      <td>Divulgação da atividade parlamentar</td>\n",
       "      <td>27.209.437/0001-96</td>\n",
       "      <td>Excelsior Comunicação Digital Ltda</td>\n",
       "      <td>2020/9</td>\n",
       "      <td>NaT</td>\n",
       "      <td>NaN</td>\n",
       "      <td>1150.00</td>\n",
       "      <td>2144535</td>\n",
       "    </tr>\n",
       "    <tr>\n",
       "      <th>37872</th>\n",
       "      <td>2021</td>\n",
       "      <td>11</td>\n",
       "      <td>CARLOS VIANA</td>\n",
       "      <td>Passagens aéreas, aquáticas e terrestres nacio...</td>\n",
       "      <td>16.978.175/0001-08</td>\n",
       "      <td>ADRIA VIAGENS E TURISMO LTDA</td>\n",
       "      <td>YK1QHD</td>\n",
       "      <td>NaT</td>\n",
       "      <td>Companhia Aérea: AZUL, Localizador: YK1QHD. Pa...</td>\n",
       "      <td>339.90</td>\n",
       "      <td>2169237</td>\n",
       "    </tr>\n",
       "  </tbody>\n",
       "</table>\n",
       "</div>"
      ],
      "text/plain": [
       "        ANO  MES         SENADOR  \\\n",
       "10986  2019    1     LÚCIA VÂNIA   \n",
       "31996  2020    5  PLÍNIO VALÉRIO   \n",
       "37872  2021   11    CARLOS VIANA   \n",
       "\n",
       "                                            TIPO_DESPESA            CNPJ_CPF  \\\n",
       "10986  Aluguel de imóveis para escritório político, c...  08.573.731/0001-38   \n",
       "31996                Divulgação da atividade parlamentar  27.209.437/0001-96   \n",
       "37872  Passagens aéreas, aquáticas e terrestres nacio...  16.978.175/0001-08   \n",
       "\n",
       "                                              FORNECEDOR DOCUMENTO DATA  \\\n",
       "10986  LDE Contabilidade e Administração de Condomíni...   0107007  NaT   \n",
       "31996                 Excelsior Comunicação Digital Ltda    2020/9  NaT   \n",
       "37872                       ADRIA VIAGENS E TURISMO LTDA    YK1QHD  NaT   \n",
       "\n",
       "                                            DETALHAMENTO  VALOR_REEMBOLSADO  \\\n",
       "10986                                   Taxa condominial             271.26   \n",
       "31996                                                NaN            1150.00   \n",
       "37872  Companhia Aérea: AZUL, Localizador: YK1QHD. Pa...             339.90   \n",
       "\n",
       "       COD_DOCUMENTO  \n",
       "10986        2114251  \n",
       "31996        2144535  \n",
       "37872        2169237  "
      ]
     },
     "execution_count": 9,
     "metadata": {},
     "output_type": "execute_result"
    }
   ],
   "source": [
    "df[pd.isna(df['DATA'])]"
   ]
  },
  {
   "cell_type": "code",
   "execution_count": 10,
   "id": "9baef92e",
   "metadata": {},
   "outputs": [
    {
     "name": "stdout",
     "output_type": "stream",
     "text": [
      "A média da amostra antes da exclusão dos registros é de 1413.1310983225883\n",
      "A média do valor reembolsado dos registros com datas incorretas é: 587.0533333333333\n"
     ]
    }
   ],
   "source": [
    "print (f\"A média da amostra antes da exclusão dos registros é de {df['VALOR_REEMBOLSADO'].mean()}\")\n",
    "print(f\"A média do valor reembolsado dos registros com datas incorretas é: {df[pd.isna(df['DATA'])]['VALOR_REEMBOLSADO'].mean()}\")"
   ]
  },
  {
   "cell_type": "markdown",
   "id": "a67f6994",
   "metadata": {},
   "source": [
    "Considerando que temos apenas três registros com datas preenchidas de forma incorreta e que a média do VALORE_REEMBOLSADO destes registros é inferior à media da amostra e próxima à mediana, optei por eliminar essas insconsistências. "
   ]
  },
  {
   "cell_type": "code",
   "execution_count": 11,
   "id": "1abaa147",
   "metadata": {},
   "outputs": [
    {
     "name": "stdout",
     "output_type": "stream",
     "text": [
      "A média da amostra após a exclusão dos registros é de 1413.1668437905666\n"
     ]
    }
   ],
   "source": [
    "df.dropna(subset=['DATA'], inplace=True)\n",
    "print (f\"A média da amostra após a exclusão dos registros é de {df['VALOR_REEMBOLSADO'].mean()}\")"
   ]
  },
  {
   "cell_type": "code",
   "execution_count": 12,
   "id": "dc4234af",
   "metadata": {},
   "outputs": [
    {
     "data": {
      "text/plain": [
       "(69330, 11)"
      ]
     },
     "execution_count": 12,
     "metadata": {},
     "output_type": "execute_result"
    }
   ],
   "source": [
    "df.shape"
   ]
  },
  {
   "cell_type": "markdown",
   "id": "91467b84",
   "metadata": {},
   "source": [
    "### Conseguindo algumas informações agrupadas."
   ]
  },
  {
   "cell_type": "code",
   "execution_count": 13,
   "id": "63c05c86",
   "metadata": {},
   "outputs": [
    {
     "data": {
      "text/plain": [
       "153"
      ]
     },
     "execution_count": 13,
     "metadata": {},
     "output_type": "execute_result"
    }
   ],
   "source": [
    "len(df['SENADOR'].unique())"
   ]
  },
  {
   "cell_type": "code",
   "execution_count": 19,
   "id": "30fb3936",
   "metadata": {},
   "outputs": [
    {
     "name": "stdout",
     "output_type": "stream",
     "text": [
      "Os tipos de despesas são: \n",
      "Aluguel de imóveis para escritório político, compreendendo despesas concernentes a eles.\n",
      "Divulgação da atividade parlamentar\n",
      "Aquisição de material de consumo para uso no escritório político, inclusive aquisição ou locação de software, despesas postais, aquisição de publicações, locação de móveis e de equipamentos. \n",
      "Passagens aéreas, aquáticas e terrestres nacionais\n",
      "Contratação de consultorias, assessorias, pesquisas, trabalhos técnicos e outros serviços de apoio ao exercício do mandato parlamentar\n",
      "Locomoção, hospedagem, alimentação, combustíveis e lubrificantes\n",
      "Serviços de Segurança Privada\n"
     ]
    },
    {
     "data": {
      "text/plain": [
       "[None, None, None, None, None, None, None]"
      ]
     },
     "execution_count": 19,
     "metadata": {},
     "output_type": "execute_result"
    }
   ],
   "source": [
    "print ('Os tipos de despesas são: ')\n",
    "[print(despesa) for despesa in df['TIPO_DESPESA'].unique()]"
   ]
  },
  {
   "cell_type": "code",
   "execution_count": 23,
   "id": "e5282a10",
   "metadata": {},
   "outputs": [
    {
     "name": "stdout",
     "output_type": "stream",
     "text": [
      "2019\n"
     ]
    },
    {
     "ename": "KeyError",
     "evalue": "\"None of [Index([(531315.99, 519561.65, 485846.15, 485114.4, 466253.4, 459892.5, 452115.71, 448395.92, 447968.95, 444688.2, 439589.13, 428313.79, 427376.29, 426948.31, 421313.68, 420936.08, 419037.61, 414626.71, 411292.61, 402681.1, 398771.75, 390009.41, 388340.7, 386665.17, 381852.56, 365764.5, 361870.44, 361706.7, 361520.8, 356154.62, 354330.66, 344352.43, 339038.63, 338260.32, 337202.08, 337083.23, 336947.98, 334272.6, 329547.92, 324470.43, 313398.6, 309904.54, 307593.84, 305573.81, 296932.06, 295183.46, 289187.59, 287050.34, 285508.12, 277345.47, 274982.89, 274505.69, 263372.59, 251714.02, 248508.16, 234929.03, 231480.66999999998, 230497.99, 229329.59, 215835.71, 212399.08, 212065.03, 212059.18, 209862.14, 195048.87, 183431.17, 180135.58, 168256.49, 163960.35, 160530.05, 134978.27, 131429.21, 129238.22, 124143.4, 105354.33, 83825.62, 78671.84, 65246.91, 42855.2, 41844.45, 39411.85, 38678.43, 37396.6, 34974.54, 34934.45, 34016.2, 33526.85, 33263.42, 31853.02, 28663.81, 28134.75, 26222.93, 25215.2, 25215.2, 24621.579999999998, 20897.1, 20887.38, 20850.0, 20773.94, 20564.55, ...)], dtype='object')] are in the [columns]\"",
     "output_type": "error",
     "traceback": [
      "\u001b[0;31m---------------------------------------------------------------------------\u001b[0m",
      "\u001b[0;31mKeyError\u001b[0m                                  Traceback (most recent call last)",
      "Cell \u001b[0;32mIn[23], line 5\u001b[0m\n\u001b[1;32m      3\u001b[0m \u001b[38;5;28mprint\u001b[39m (ano)\n\u001b[1;32m      4\u001b[0m reembolso_por_senador \u001b[38;5;241m=\u001b[39m df\u001b[38;5;241m.\u001b[39mloc[df[\u001b[38;5;124m'\u001b[39m\u001b[38;5;124mANO\u001b[39m\u001b[38;5;124m'\u001b[39m] \u001b[38;5;241m==\u001b[39m ano]\u001b[38;5;241m.\u001b[39mgroupby(\u001b[38;5;124m'\u001b[39m\u001b[38;5;124mSENADOR\u001b[39m\u001b[38;5;124m'\u001b[39m)[[\u001b[38;5;124m'\u001b[39m\u001b[38;5;124mVALOR_REEMBOLSADO\u001b[39m\u001b[38;5;124m'\u001b[39m]]\u001b[38;5;241m.\u001b[39msum()\u001b[38;5;241m.\u001b[39msort_values(by\u001b[38;5;241m=\u001b[39m\u001b[38;5;124m'\u001b[39m\u001b[38;5;124mVALOR_REEMBOLSADO\u001b[39m\u001b[38;5;124m'\u001b[39m, ascending\u001b[38;5;241m=\u001b[39m\u001b[38;5;28;01mFalse\u001b[39;00m)\n\u001b[0;32m----> 5\u001b[0m \u001b[43mreembolso_por_senador\u001b[49m\u001b[38;5;241;43m.\u001b[39;49m\u001b[43mboxplot\u001b[49m\u001b[43m(\u001b[49m\u001b[43mcolumn\u001b[49m\u001b[38;5;241;43m=\u001b[39;49m\u001b[43mreembolso_por_senador\u001b[49m\u001b[43m[\u001b[49m\u001b[38;5;124;43m'\u001b[39;49m\u001b[38;5;124;43mVALOR_REEMBOLSADO\u001b[39;49m\u001b[38;5;124;43m'\u001b[39;49m\u001b[43m]\u001b[49m\u001b[43m)\u001b[49m\n",
      "File \u001b[0;32m/usr/local/lib/python3.9/site-packages/pandas/plotting/_core.py:516\u001b[0m, in \u001b[0;36mboxplot_frame\u001b[0;34m(self, column, by, ax, fontsize, rot, grid, figsize, layout, return_type, backend, **kwargs)\u001b[0m\n\u001b[1;32m    499\u001b[0m \u001b[38;5;129m@Substitution\u001b[39m(backend\u001b[38;5;241m=\u001b[39m_backend_doc)\n\u001b[1;32m    500\u001b[0m \u001b[38;5;129m@Appender\u001b[39m(_boxplot_doc)\n\u001b[1;32m    501\u001b[0m \u001b[38;5;28;01mdef\u001b[39;00m \u001b[38;5;21mboxplot_frame\u001b[39m(\n\u001b[0;32m   (...)\u001b[0m\n\u001b[1;32m    513\u001b[0m     \u001b[38;5;241m*\u001b[39m\u001b[38;5;241m*\u001b[39mkwargs,\n\u001b[1;32m    514\u001b[0m ):\n\u001b[1;32m    515\u001b[0m     plot_backend \u001b[38;5;241m=\u001b[39m _get_plot_backend(backend)\n\u001b[0;32m--> 516\u001b[0m     \u001b[38;5;28;01mreturn\u001b[39;00m \u001b[43mplot_backend\u001b[49m\u001b[38;5;241;43m.\u001b[39;49m\u001b[43mboxplot_frame\u001b[49m\u001b[43m(\u001b[49m\n\u001b[1;32m    517\u001b[0m \u001b[43m        \u001b[49m\u001b[38;5;28;43mself\u001b[39;49m\u001b[43m,\u001b[49m\n\u001b[1;32m    518\u001b[0m \u001b[43m        \u001b[49m\u001b[43mcolumn\u001b[49m\u001b[38;5;241;43m=\u001b[39;49m\u001b[43mcolumn\u001b[49m\u001b[43m,\u001b[49m\n\u001b[1;32m    519\u001b[0m \u001b[43m        \u001b[49m\u001b[43mby\u001b[49m\u001b[38;5;241;43m=\u001b[39;49m\u001b[43mby\u001b[49m\u001b[43m,\u001b[49m\n\u001b[1;32m    520\u001b[0m \u001b[43m        \u001b[49m\u001b[43max\u001b[49m\u001b[38;5;241;43m=\u001b[39;49m\u001b[43max\u001b[49m\u001b[43m,\u001b[49m\n\u001b[1;32m    521\u001b[0m \u001b[43m        \u001b[49m\u001b[43mfontsize\u001b[49m\u001b[38;5;241;43m=\u001b[39;49m\u001b[43mfontsize\u001b[49m\u001b[43m,\u001b[49m\n\u001b[1;32m    522\u001b[0m \u001b[43m        \u001b[49m\u001b[43mrot\u001b[49m\u001b[38;5;241;43m=\u001b[39;49m\u001b[43mrot\u001b[49m\u001b[43m,\u001b[49m\n\u001b[1;32m    523\u001b[0m \u001b[43m        \u001b[49m\u001b[43mgrid\u001b[49m\u001b[38;5;241;43m=\u001b[39;49m\u001b[43mgrid\u001b[49m\u001b[43m,\u001b[49m\n\u001b[1;32m    524\u001b[0m \u001b[43m        \u001b[49m\u001b[43mfigsize\u001b[49m\u001b[38;5;241;43m=\u001b[39;49m\u001b[43mfigsize\u001b[49m\u001b[43m,\u001b[49m\n\u001b[1;32m    525\u001b[0m \u001b[43m        \u001b[49m\u001b[43mlayout\u001b[49m\u001b[38;5;241;43m=\u001b[39;49m\u001b[43mlayout\u001b[49m\u001b[43m,\u001b[49m\n\u001b[1;32m    526\u001b[0m \u001b[43m        \u001b[49m\u001b[43mreturn_type\u001b[49m\u001b[38;5;241;43m=\u001b[39;49m\u001b[43mreturn_type\u001b[49m\u001b[43m,\u001b[49m\n\u001b[1;32m    527\u001b[0m \u001b[43m        \u001b[49m\u001b[38;5;241;43m*\u001b[39;49m\u001b[38;5;241;43m*\u001b[39;49m\u001b[43mkwargs\u001b[49m\u001b[43m,\u001b[49m\n\u001b[1;32m    528\u001b[0m \u001b[43m    \u001b[49m\u001b[43m)\u001b[49m\n",
      "File \u001b[0;32m/usr/local/lib/python3.9/site-packages/pandas/plotting/_matplotlib/boxplot.py:458\u001b[0m, in \u001b[0;36mboxplot_frame\u001b[0;34m(self, column, by, ax, fontsize, rot, grid, figsize, layout, return_type, **kwds)\u001b[0m\n\u001b[1;32m    443\u001b[0m \u001b[38;5;28;01mdef\u001b[39;00m \u001b[38;5;21mboxplot_frame\u001b[39m(\n\u001b[1;32m    444\u001b[0m     \u001b[38;5;28mself\u001b[39m,\n\u001b[1;32m    445\u001b[0m     column\u001b[38;5;241m=\u001b[39m\u001b[38;5;28;01mNone\u001b[39;00m,\n\u001b[0;32m   (...)\u001b[0m\n\u001b[1;32m    454\u001b[0m     \u001b[38;5;241m*\u001b[39m\u001b[38;5;241m*\u001b[39mkwds,\n\u001b[1;32m    455\u001b[0m ):\n\u001b[1;32m    456\u001b[0m     \u001b[38;5;28;01mimport\u001b[39;00m \u001b[38;5;21;01mmatplotlib\u001b[39;00m\u001b[38;5;21;01m.\u001b[39;00m\u001b[38;5;21;01mpyplot\u001b[39;00m \u001b[38;5;28;01mas\u001b[39;00m \u001b[38;5;21;01mplt\u001b[39;00m\n\u001b[0;32m--> 458\u001b[0m     ax \u001b[38;5;241m=\u001b[39m \u001b[43mboxplot\u001b[49m\u001b[43m(\u001b[49m\n\u001b[1;32m    459\u001b[0m \u001b[43m        \u001b[49m\u001b[38;5;28;43mself\u001b[39;49m\u001b[43m,\u001b[49m\n\u001b[1;32m    460\u001b[0m \u001b[43m        \u001b[49m\u001b[43mcolumn\u001b[49m\u001b[38;5;241;43m=\u001b[39;49m\u001b[43mcolumn\u001b[49m\u001b[43m,\u001b[49m\n\u001b[1;32m    461\u001b[0m \u001b[43m        \u001b[49m\u001b[43mby\u001b[49m\u001b[38;5;241;43m=\u001b[39;49m\u001b[43mby\u001b[49m\u001b[43m,\u001b[49m\n\u001b[1;32m    462\u001b[0m \u001b[43m        \u001b[49m\u001b[43max\u001b[49m\u001b[38;5;241;43m=\u001b[39;49m\u001b[43max\u001b[49m\u001b[43m,\u001b[49m\n\u001b[1;32m    463\u001b[0m \u001b[43m        \u001b[49m\u001b[43mfontsize\u001b[49m\u001b[38;5;241;43m=\u001b[39;49m\u001b[43mfontsize\u001b[49m\u001b[43m,\u001b[49m\n\u001b[1;32m    464\u001b[0m \u001b[43m        \u001b[49m\u001b[43mgrid\u001b[49m\u001b[38;5;241;43m=\u001b[39;49m\u001b[43mgrid\u001b[49m\u001b[43m,\u001b[49m\n\u001b[1;32m    465\u001b[0m \u001b[43m        \u001b[49m\u001b[43mrot\u001b[49m\u001b[38;5;241;43m=\u001b[39;49m\u001b[43mrot\u001b[49m\u001b[43m,\u001b[49m\n\u001b[1;32m    466\u001b[0m \u001b[43m        \u001b[49m\u001b[43mfigsize\u001b[49m\u001b[38;5;241;43m=\u001b[39;49m\u001b[43mfigsize\u001b[49m\u001b[43m,\u001b[49m\n\u001b[1;32m    467\u001b[0m \u001b[43m        \u001b[49m\u001b[43mlayout\u001b[49m\u001b[38;5;241;43m=\u001b[39;49m\u001b[43mlayout\u001b[49m\u001b[43m,\u001b[49m\n\u001b[1;32m    468\u001b[0m \u001b[43m        \u001b[49m\u001b[43mreturn_type\u001b[49m\u001b[38;5;241;43m=\u001b[39;49m\u001b[43mreturn_type\u001b[49m\u001b[43m,\u001b[49m\n\u001b[1;32m    469\u001b[0m \u001b[43m        \u001b[49m\u001b[38;5;241;43m*\u001b[39;49m\u001b[38;5;241;43m*\u001b[39;49m\u001b[43mkwds\u001b[49m\u001b[43m,\u001b[49m\n\u001b[1;32m    470\u001b[0m \u001b[43m    \u001b[49m\u001b[43m)\u001b[49m\n\u001b[1;32m    471\u001b[0m     plt\u001b[38;5;241m.\u001b[39mdraw_if_interactive()\n\u001b[1;32m    472\u001b[0m     \u001b[38;5;28;01mreturn\u001b[39;00m ax\n",
      "File \u001b[0;32m/usr/local/lib/python3.9/site-packages/pandas/plotting/_matplotlib/boxplot.py:435\u001b[0m, in \u001b[0;36mboxplot\u001b[0;34m(data, column, by, ax, fontsize, rot, grid, figsize, layout, return_type, **kwds)\u001b[0m\n\u001b[1;32m    433\u001b[0m     columns \u001b[38;5;241m=\u001b[39m data\u001b[38;5;241m.\u001b[39mcolumns\n\u001b[1;32m    434\u001b[0m \u001b[38;5;28;01melse\u001b[39;00m:\n\u001b[0;32m--> 435\u001b[0m     data \u001b[38;5;241m=\u001b[39m \u001b[43mdata\u001b[49m\u001b[43m[\u001b[49m\u001b[43mcolumns\u001b[49m\u001b[43m]\u001b[49m\n\u001b[1;32m    437\u001b[0m result \u001b[38;5;241m=\u001b[39m plot_group(columns, data\u001b[38;5;241m.\u001b[39mvalues\u001b[38;5;241m.\u001b[39mT, ax, \u001b[38;5;241m*\u001b[39m\u001b[38;5;241m*\u001b[39mkwds)\n\u001b[1;32m    438\u001b[0m ax\u001b[38;5;241m.\u001b[39mgrid(grid)\n",
      "File \u001b[0;32m/usr/local/lib/python3.9/site-packages/pandas/core/frame.py:3813\u001b[0m, in \u001b[0;36mDataFrame.__getitem__\u001b[0;34m(self, key)\u001b[0m\n\u001b[1;32m   3811\u001b[0m     \u001b[38;5;28;01mif\u001b[39;00m is_iterator(key):\n\u001b[1;32m   3812\u001b[0m         key \u001b[38;5;241m=\u001b[39m \u001b[38;5;28mlist\u001b[39m(key)\n\u001b[0;32m-> 3813\u001b[0m     indexer \u001b[38;5;241m=\u001b[39m \u001b[38;5;28;43mself\u001b[39;49m\u001b[38;5;241;43m.\u001b[39;49m\u001b[43mcolumns\u001b[49m\u001b[38;5;241;43m.\u001b[39;49m\u001b[43m_get_indexer_strict\u001b[49m\u001b[43m(\u001b[49m\u001b[43mkey\u001b[49m\u001b[43m,\u001b[49m\u001b[43m \u001b[49m\u001b[38;5;124;43m\"\u001b[39;49m\u001b[38;5;124;43mcolumns\u001b[39;49m\u001b[38;5;124;43m\"\u001b[39;49m\u001b[43m)\u001b[49m[\u001b[38;5;241m1\u001b[39m]\n\u001b[1;32m   3815\u001b[0m \u001b[38;5;66;03m# take() does not accept boolean indexers\u001b[39;00m\n\u001b[1;32m   3816\u001b[0m \u001b[38;5;28;01mif\u001b[39;00m \u001b[38;5;28mgetattr\u001b[39m(indexer, \u001b[38;5;124m\"\u001b[39m\u001b[38;5;124mdtype\u001b[39m\u001b[38;5;124m\"\u001b[39m, \u001b[38;5;28;01mNone\u001b[39;00m) \u001b[38;5;241m==\u001b[39m \u001b[38;5;28mbool\u001b[39m:\n",
      "File \u001b[0;32m/usr/local/lib/python3.9/site-packages/pandas/core/indexes/base.py:6070\u001b[0m, in \u001b[0;36mIndex._get_indexer_strict\u001b[0;34m(self, key, axis_name)\u001b[0m\n\u001b[1;32m   6067\u001b[0m \u001b[38;5;28;01melse\u001b[39;00m:\n\u001b[1;32m   6068\u001b[0m     keyarr, indexer, new_indexer \u001b[38;5;241m=\u001b[39m \u001b[38;5;28mself\u001b[39m\u001b[38;5;241m.\u001b[39m_reindex_non_unique(keyarr)\n\u001b[0;32m-> 6070\u001b[0m \u001b[38;5;28;43mself\u001b[39;49m\u001b[38;5;241;43m.\u001b[39;49m\u001b[43m_raise_if_missing\u001b[49m\u001b[43m(\u001b[49m\u001b[43mkeyarr\u001b[49m\u001b[43m,\u001b[49m\u001b[43m \u001b[49m\u001b[43mindexer\u001b[49m\u001b[43m,\u001b[49m\u001b[43m \u001b[49m\u001b[43maxis_name\u001b[49m\u001b[43m)\u001b[49m\n\u001b[1;32m   6072\u001b[0m keyarr \u001b[38;5;241m=\u001b[39m \u001b[38;5;28mself\u001b[39m\u001b[38;5;241m.\u001b[39mtake(indexer)\n\u001b[1;32m   6073\u001b[0m \u001b[38;5;28;01mif\u001b[39;00m \u001b[38;5;28misinstance\u001b[39m(key, Index):\n\u001b[1;32m   6074\u001b[0m     \u001b[38;5;66;03m# GH 42790 - Preserve name from an Index\u001b[39;00m\n",
      "File \u001b[0;32m/usr/local/lib/python3.9/site-packages/pandas/core/indexes/base.py:6130\u001b[0m, in \u001b[0;36mIndex._raise_if_missing\u001b[0;34m(self, key, indexer, axis_name)\u001b[0m\n\u001b[1;32m   6128\u001b[0m     \u001b[38;5;28;01mif\u001b[39;00m use_interval_msg:\n\u001b[1;32m   6129\u001b[0m         key \u001b[38;5;241m=\u001b[39m \u001b[38;5;28mlist\u001b[39m(key)\n\u001b[0;32m-> 6130\u001b[0m     \u001b[38;5;28;01mraise\u001b[39;00m \u001b[38;5;167;01mKeyError\u001b[39;00m(\u001b[38;5;124mf\u001b[39m\u001b[38;5;124m\"\u001b[39m\u001b[38;5;124mNone of [\u001b[39m\u001b[38;5;132;01m{\u001b[39;00mkey\u001b[38;5;132;01m}\u001b[39;00m\u001b[38;5;124m] are in the [\u001b[39m\u001b[38;5;132;01m{\u001b[39;00maxis_name\u001b[38;5;132;01m}\u001b[39;00m\u001b[38;5;124m]\u001b[39m\u001b[38;5;124m\"\u001b[39m)\n\u001b[1;32m   6132\u001b[0m not_found \u001b[38;5;241m=\u001b[39m \u001b[38;5;28mlist\u001b[39m(ensure_index(key)[missing_mask\u001b[38;5;241m.\u001b[39mnonzero()[\u001b[38;5;241m0\u001b[39m]]\u001b[38;5;241m.\u001b[39munique())\n\u001b[1;32m   6133\u001b[0m \u001b[38;5;28;01mraise\u001b[39;00m \u001b[38;5;167;01mKeyError\u001b[39;00m(\u001b[38;5;124mf\u001b[39m\u001b[38;5;124m\"\u001b[39m\u001b[38;5;132;01m{\u001b[39;00mnot_found\u001b[38;5;132;01m}\u001b[39;00m\u001b[38;5;124m not in index\u001b[39m\u001b[38;5;124m\"\u001b[39m)\n",
      "\u001b[0;31mKeyError\u001b[0m: \"None of [Index([(531315.99, 519561.65, 485846.15, 485114.4, 466253.4, 459892.5, 452115.71, 448395.92, 447968.95, 444688.2, 439589.13, 428313.79, 427376.29, 426948.31, 421313.68, 420936.08, 419037.61, 414626.71, 411292.61, 402681.1, 398771.75, 390009.41, 388340.7, 386665.17, 381852.56, 365764.5, 361870.44, 361706.7, 361520.8, 356154.62, 354330.66, 344352.43, 339038.63, 338260.32, 337202.08, 337083.23, 336947.98, 334272.6, 329547.92, 324470.43, 313398.6, 309904.54, 307593.84, 305573.81, 296932.06, 295183.46, 289187.59, 287050.34, 285508.12, 277345.47, 274982.89, 274505.69, 263372.59, 251714.02, 248508.16, 234929.03, 231480.66999999998, 230497.99, 229329.59, 215835.71, 212399.08, 212065.03, 212059.18, 209862.14, 195048.87, 183431.17, 180135.58, 168256.49, 163960.35, 160530.05, 134978.27, 131429.21, 129238.22, 124143.4, 105354.33, 83825.62, 78671.84, 65246.91, 42855.2, 41844.45, 39411.85, 38678.43, 37396.6, 34974.54, 34934.45, 34016.2, 33526.85, 33263.42, 31853.02, 28663.81, 28134.75, 26222.93, 25215.2, 25215.2, 24621.579999999998, 20897.1, 20887.38, 20850.0, 20773.94, 20564.55, ...)], dtype='object')] are in the [columns]\""
     ]
    }
   ],
   "source": [
    "anos = [2019, 2020, 2021, 2022]\n",
    "for ano in anos:\n",
    "    print (ano)\n",
    "    reembolso_por_senador = df.loc[df['ANO'] == ano].groupby('SENADOR')[['VALOR_REEMBOLSADO']].sum().sort_values(by='VALOR_REEMBOLSADO', ascending=False)\n",
    "    reembolso_por_senador.boxplot(column=reembolso_por_senador['VALOR_REEMBOLSADO'])\n"
   ]
  },
  {
   "cell_type": "code",
   "execution_count": null,
   "id": "1045a314",
   "metadata": {},
   "outputs": [],
   "source": []
  }
 ],
 "metadata": {
  "kernelspec": {
   "display_name": "Python 3 (ipykernel)",
   "language": "python",
   "name": "python3"
  },
  "language_info": {
   "codemirror_mode": {
    "name": "ipython",
    "version": 3
   },
   "file_extension": ".py",
   "mimetype": "text/x-python",
   "name": "python",
   "nbconvert_exporter": "python",
   "pygments_lexer": "ipython3",
   "version": "3.9.17"
  }
 },
 "nbformat": 4,
 "nbformat_minor": 5
}
